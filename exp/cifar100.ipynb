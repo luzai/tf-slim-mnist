{
 "cells": [
  {
   "cell_type": "code",
   "execution_count": 1,
   "metadata": {},
   "outputs": [
    {
     "name": "stdout",
     "output_type": "stream",
     "text": [
      "Auto select gpu\n",
      " ID  GPU  MEM\n",
      "--------------\n",
      "  0  51%  66%\n",
      "  1   0%   1%\n",
      "  2   0%   1%\n",
      "  3   0%   1%\n",
      "  4   0%   1%\n",
      "  5   0%   1%\n",
      "  6   0%   0%\n",
      "  7   0%   1%\n",
      "available [6]\n"
     ]
    },
    {
     "name": "stderr",
     "output_type": "stream",
     "text": [
      "Using TensorFlow backend.\n"
     ]
    },
    {
     "name": "stdout",
     "output_type": "stream",
     "text": [
      "Auto select gpu\n",
      " ID  GPU  MEM\n",
      "--------------\n",
      "  0  56%  66%\n",
      "  1   0%   1%\n",
      "  2   0%   1%\n",
      "  3   0%   1%\n",
      "  4   0%   1%\n",
      "  5   0%   1%\n",
      "  6   0%   1%\n",
      "  7   0%   1%\n",
      "available [2]\n"
     ]
    }
   ],
   "source": [
    "from utils import *\n",
    "import utils\n",
    "utils.init_dev(utils.get_dev())\n",
    "utils.allow_growth()\n",
    "\n",
    "%load_ext autoreload\n",
    "# %reload_ext autoreload\n",
    "%autoreload 2\n",
    "%matplotlib inline\n",
    "import matplotlib\n",
    "matplotlib.style.use('ggplot')\n",
    "\n",
    "from IPython.core.interactiveshell import InteractiveShell\n",
    "InteractiveShell.ast_node_interactivity = \"all\"\n",
    "\n",
    "from cifar100_train import *"
   ]
  },
  {
   "cell_type": "code",
   "execution_count": 2,
   "metadata": {
    "collapsed": true
   },
   "outputs": [],
   "source": [
    "dataset = cifar100.get_split('train', FLAGS.data_dir)\n",
    "# load batch of dataset\n",
    "batch_queue = load_batch(\n",
    "    dataset,\n",
    "    2,\n",
    "    is_training=True)\n",
    "images, labels = batch_queue.dequeue()\n",
    "predictions,end_points = resnet101(images, classes=100)\n",
    "tf.get_variable_scope().reuse_variables()\n",
    "beta = 1.\n",
    "gamma = 1.\n",
    "\n",
    "# get the cross-entropy loss\n",
    "one_hot_labels = slim.one_hot_encoding(\n",
    "    labels,\n",
    "    dataset.num_classes)\n",
    "\n",
    "loss_100 = tf.losses.softmax_cross_entropy(\n",
    "    logits=predictions,\n",
    "    onehot_labels=one_hot_labels)\n",
    "\n",
    "# labels_coarse = map_label(labels)\n",
    "labels_coarse = tf.to_int64(labels // 5)\n",
    "one_hot_labels_coarse = slim.one_hot_encoding(labels_coarse, 20)\n",
    "\n",
    "predictions_reshape = tf.reshape(tf.nn.softmax(predictions), (-1, 20, 5))\n",
    "loss_20 = tf.losses.log_loss(\n",
    "    predictions=tf.reduce_sum(predictions_reshape, axis=-1), labels=one_hot_labels_coarse, weights=beta\n",
    "    , loss_collection=None\n",
    ")\n",
    "\n",
    "loss_group_l = []\n",
    "for ind in range(20):\n",
    "    predictions_ = tf.reshape(predictions, (-1, 20, 5))\n",
    "    bs = tf.shape(predictions_, out_type=tf.int64)[0]\n",
    "    sel = tf.stack([tf.range(bs, dtype=tf.int64), labels // 5], axis=1)\n",
    "    predictions_ = tf.gather_nd(predictions_, sel)\n",
    "\n",
    "    one_hot_labels_group = slim.one_hot_encoding(tf.mod(labels, 5), 5)\n",
    "    loss_group_l.append(\n",
    "            tf.losses.softmax_cross_entropy(\n",
    "                logits=predictions_,\n",
    "                onehot_labels=one_hot_labels_group,\n",
    "                loss_collection=None,\n",
    "                weights=gamma))\n",
    "\n",
    "loss_group = tf.add_n(loss_group_l)\n",
    "# tf.losses.add_loss(loss_group)"
   ]
  },
  {
   "cell_type": "code",
   "execution_count": 3,
   "metadata": {
    "scrolled": true
   },
   "outputs": [
    {
     "name": "stdout",
     "output_type": "stream",
     "text": [
      "Auto select gpu\n",
      " ID  GPU  MEM\n",
      "--------------\n",
      "  0   0%   1%\n",
      "  1   0%   0%\n",
      "  2   0%   0%\n",
      "  3   0%   0%\n",
      "  4   0%   0%\n",
      "  5   0%   0%\n",
      "  6   0%   0%\n",
      "  7   0%   0%\n",
      "available [1]\n",
      "[array([77, 20]), array([15,  4]), array([[ 0, 15],\n",
      "       [ 1,  4]]), array([[ 0.90386468,  0.36470109,  0.90736318, -0.92876112,  1.51715112],\n",
      "       [-0.92795539, -0.70712417,  1.13920856,  0.95388913, -0.47225183]], dtype=float32), array([[ 0.,  0.,  1.,  0.,  0.],\n",
      "       [ 1.,  0.,  0.,  0.,  0.]], dtype=float32), 44.275681, 2.213784, 2.213784, 2.213784, 2.213784, 2.213784, 2.213784, 2.213784, 2.213784, 2.213784, 2.213784, 2.213784, 2.213784, 2.213784, 2.213784, 2.213784, 2.213784, 2.213784, 2.213784, 2.213784, 2.213784, 2.213784]\n"
     ]
    }
   ],
   "source": [
    "with tf.InteractiveSession().as_default():\n",
    "    _=tf.train.start_queue_runners(sess=tf.get_default_session())\n",
    "    tf.global_variables_initializer().run()\n",
    "    sess=tf.get_default_session()\n",
    "    print sess.run([labels,labels_coarse,\n",
    "                    sel,predictions_,one_hot_labels_group,loss_group,\n",
    "                    tf.losses.softmax_cross_entropy(\n",
    "                logits=predictions_,\n",
    "                onehot_labels=one_hot_labels_group,\n",
    "                loss_collection=None,\n",
    "                weights=gamma)]+loss_group_l)"
   ]
  },
  {
   "cell_type": "code",
   "execution_count": 2,
   "metadata": {
    "scrolled": true
   },
   "outputs": [],
   "source": [
    "from datasets.cifar100 import * \n",
    "import utils \n",
    "from datasets import cifar100\n",
    "from cifar100_train import * "
   ]
  },
  {
   "cell_type": "code",
   "execution_count": 3,
   "metadata": {
    "collapsed": true
   },
   "outputs": [],
   "source": [
    "batch_size=FLAGS.batch_size"
   ]
  },
  {
   "cell_type": "code",
   "execution_count": 4,
   "metadata": {},
   "outputs": [],
   "source": [
    "# load the dataset\n",
    "dataset = cifar100.get_split('train', FLAGS.data_dir)\n",
    "\n",
    "# load batch of dataset\n",
    "data_provider = slim.dataset_data_provider.DatasetDataProvider(\n",
    "        dataset,\n",
    "        num_readers=8,\n",
    "        common_queue_capacity=40 * batch_size,\n",
    "        common_queue_min=20 * batch_size)\n",
    "\n",
    "images, labels = data_provider.get(['image', 'label'])\n"
   ]
  },
  {
   "cell_type": "code",
   "execution_count": 5,
   "metadata": {},
   "outputs": [],
   "source": [
    "sess=tf.Session(config= utils.allow_growth_config()) \n",
    "_=tf.train.queue_runner.start_queue_runners(sess)\n"
   ]
  },
  {
   "cell_type": "code",
   "execution_count": 24,
   "metadata": {},
   "outputs": [
    {
     "data": {
      "text/plain": [
       "<matplotlib.figure.Figure at 0x7fbf5288d290>"
      ]
     },
     "execution_count": 24,
     "metadata": {},
     "output_type": "execute_result"
    },
    {
     "data": {
      "text/plain": [
       "<matplotlib.image.AxesImage at 0x7fbf52805c10>"
      ]
     },
     "execution_count": 24,
     "metadata": {},
     "output_type": "execute_result"
    },
    {
     "name": "stdout",
     "output_type": "stream",
     "text": [
      "64\n",
      "possum\n"
     ]
    },
    {
     "data": {
      "image/png": "[encoded data removed]",
      "text/plain": [
       "<matplotlib.figure.Figure at 0x7fbf5288d290>"
      ]
     },
     "metadata": {},
     "output_type": "display_data"
    }
   ],
   "source": [
    "# lb=0\n",
    "# while lb!=52:\n",
    "im,lb=sess.run([images,labels])\n",
    "\n",
    "from datasets.cifar100 import *\n",
    "# a2b_map = {a:b for b,a in b2a_map.items()}\n",
    "plt.figure(figsize=(2,2))\n",
    "plt.imshow(im,)\n",
    "plt.grid('off')\n",
    "print lb\n",
    "# blb=a2b_map[lb]\n",
    "# print blb \n",
    "print fine_labels_human[lb]"
   ]
  },
  {
   "cell_type": "code",
   "execution_count": 25,
   "metadata": {},
   "outputs": [
    {
     "data": {
      "text/plain": [
       "{0: {4, 30, 55, 72, 95},\n",
       " 1: {1, 32, 67, 73, 91},\n",
       " 2: {54, 62, 70, 82, 92},\n",
       " 3: {9, 10, 16, 28, 61},\n",
       " 4: {0, 51, 53, 57, 83},\n",
       " 5: {22, 39, 40, 86, 87},\n",
       " 6: {5, 20, 25, 84, 94},\n",
       " 7: {6, 7, 14, 18, 24},\n",
       " 8: {3, 42, 43, 88, 97},\n",
       " 9: {12, 17, 37, 68, 76},\n",
       " 10: {23, 33, 49, 60, 71},\n",
       " 11: {15, 19, 21, 31, 38},\n",
       " 12: {34, 63, 64, 66, 75},\n",
       " 13: {26, 45, 77, 79, 99},\n",
       " 14: {2, 11, 35, 46, 98},\n",
       " 15: {27, 29, 44, 78, 93},\n",
       " 16: {36, 50, 65, 74, 80},\n",
       " 17: {47, 52, 56, 59, 96},\n",
       " 18: {8, 13, 48, 58, 90},\n",
       " 19: {41, 69, 81, 85, 89}}"
      ]
     },
     "execution_count": 25,
     "metadata": {},
     "output_type": "execute_result"
    }
   ],
   "source": [
    "c2f_map"
   ]
  },
  {
   "cell_type": "code",
   "execution_count": 28,
   "metadata": {
    "collapsed": true
   },
   "outputs": [],
   "source": [
    "mapp={}\n",
    "for c,fs in c2f_map.items():\n",
    "    for f in fs:\n",
    "        if coarse_labels_human[c] not in mapp: \n",
    "            mapp[coarse_labels_human[c]]={fine_labels_human[f]}\n",
    "        else:\n",
    "            mapp[coarse_labels_human[c]].add(fine_labels_human[f])"
   ]
  },
  {
   "cell_type": "code",
   "execution_count": 37,
   "metadata": {
    "collapsed": true
   },
   "outputs": [],
   "source": [
    "from datasets.cifar100 import * "
   ]
  },
  {
   "cell_type": "code",
   "execution_count": 63,
   "metadata": {},
   "outputs": [],
   "source": [
    "f2c_map={}\n",
    "for c,fs in c2f_map.items():\n",
    "    for f in fs:\n",
    "        f2c_map[f]=c\n",
    "f2c_arr=np.array(f2c_map.values())\n",
    "c2f_arr=np.array([list(v) for v in c2f_map.values()])\n",
    "def c2f(c):\n",
    "    return c2f_arr[c,:]\n",
    "\n",
    "def f2c(f):\n",
    "    return f2c_arr[f]"
   ]
  },
  {
   "cell_type": "code",
   "execution_count": 81,
   "metadata": {},
   "outputs": [
    {
     "data": {
      "text/plain": [
       "array([[72, 95,  4, 30, 55],\n",
       "       [32, 73, 67, 91,  1],\n",
       "       [82, 70, 92, 54, 62],\n",
       "       [16,  9, 10, 28, 61],\n",
       "       [ 0, 57, 83, 53, 51],\n",
       "       [40, 39, 22, 86, 87],\n",
       "       [25, 94, 84,  5, 20],\n",
       "       [24, 18, 14,  6,  7],\n",
       "       [88, 97, 42,  3, 43],\n",
       "       [76, 17, 68, 37, 12],\n",
       "       [49, 71, 60, 33, 23],\n",
       "       [15, 19, 21, 38, 31],\n",
       "       [64, 66, 75, 34, 63],\n",
       "       [45, 26, 99, 77, 79],\n",
       "       [11,  2, 35, 98, 46],\n",
       "       [27, 44, 29, 78, 93],\n",
       "       [80, 65, 50, 36, 74],\n",
       "       [56, 96, 59, 52, 47],\n",
       "       [ 8, 48, 58, 90, 13],\n",
       "       [81, 41, 85, 89, 69]])"
      ]
     },
     "execution_count": 81,
     "metadata": {},
     "output_type": "execute_result"
    },
    {
     "data": {
      "text/plain": [
       "array([ 4,  1, 14,  8,  0,  6,  7,  7, 18,  3,  3, 14,  9, 18,  7, 11,  3,\n",
       "        9,  7, 11,  6, 11,  5, 10,  7,  6, 13, 15,  3, 15,  0, 11,  1, 10,\n",
       "       12, 14, 16,  9, 11,  5,  5, 19,  8,  8, 15, 13, 14, 17, 18, 10, 16,\n",
       "        4, 17,  4,  2,  0, 17,  4, 18, 17, 10,  3,  2, 12, 12, 16, 12,  1,\n",
       "        9, 19,  2, 10,  0,  1, 16, 12,  9, 13, 15, 13, 16, 19,  2,  4,  6,\n",
       "       19,  5,  5,  8, 19, 18,  1,  2, 15,  6,  0, 17,  8, 14, 13])"
      ]
     },
     "execution_count": 81,
     "metadata": {},
     "output_type": "execute_result"
    }
   ],
   "source": [
    "c2f_arr\n",
    "f2c_arr"
   ]
  },
  {
   "cell_type": "code",
   "execution_count": null,
   "metadata": {
    "collapsed": true
   },
   "outputs": [],
   "source": []
  },
  {
   "cell_type": "code",
   "execution_count": 83,
   "metadata": {},
   "outputs": [
    {
     "data": {
      "text/plain": [
       "<tf.Tensor 'input/image_2:0' shape=() dtype=string>"
      ]
     },
     "execution_count": 83,
     "metadata": {},
     "output_type": "execute_result"
    }
   ],
   "source": [
    "tf.logging.set_verbosity(tf.logging.DEBUG)\n",
    "# load the dataset\n",
    "dataset = cifar100.get_split('train', FLAGS.data_dir)\n",
    "\n",
    "# load batch of dataset\n",
    "batch_queue = load_batch(\n",
    "    dataset,\n",
    "    FLAGS.batch_size,\n",
    "    is_training=True)\n",
    "images, labels = batch_queue.dequeue()\n",
    "slim.summary.image('input/image', images)\n",
    "\n",
    "tf.get_variable_scope().reuse_variables()\n",
    "# run the image through the model\n",
    "predictions, end_points = resnet50(images, classes=dataset.num_classes)\n",
    "\n",
    "# get the cross-entropy loss\n",
    "one_hot_labels = slim.one_hot_encoding(\n",
    "    labels,\n",
    "    dataset.num_classes)\n",
    "\n",
    "loss_100 = tf.losses.softmax_cross_entropy(\n",
    "    logits=predictions,\n",
    "    onehot_labels=one_hot_labels)\n",
    "\n",
    "labels_coarse = tf.py_func(f2c, [labels], tf.int64)\n",
    "# labels_coarse= tf.reshape(tf.concat(tf.constant(1,tf.int64), labels_coarse), [ 1,2])\n",
    "labels_coarse = tf.reshape(labels_coarse, labels.shape)\n",
    "labels_fine = tf.py_func(c2f, [labels_coarse], tf.int64)\n",
    "labels_fine = tf.reshape(labels_fine, labels.shape.as_list() + [5, ])\n",
    "\n",
    "one_hot_labels_coarse = tf.reduce_sum(\n",
    "    tf.reshape(slim.one_hot_encoding(\n",
    "        tf.reshape(labels_fine, (-1,)),\n",
    "        num_classes=dataset.num_classes),\n",
    "        labels.shape.as_list() + [5, -1]), axis=1\n",
    ")\n",
    "\n",
    "loss_20 = tf.losses.softmax_cross_entropy(\n",
    "    logits=predictions,\n",
    "    onehot_labels=one_hot_labels_coarse,\n",
    "    weights=FLAGS.beta,\n",
    "    loss_collection=None if not FLAGS.multi_loss else tf.GraphKeys.LOSSES\n",
    ")\n",
    "\n",
    "bs = labels_fine.shape[0]\n",
    "predictions_l = []\n",
    "for ind in range(5):\n",
    "    sel = tf.stack([tf.range(bs, dtype=tf.int64), labels_fine[:, ind]], axis=1)\n",
    "    predictions_l.append(tf.gather_nd(predictions, sel))\n",
    "predictions_group = tf.stack(predictions_l, axis=1)\n",
    "\n",
    "labels_group_one_hot = tf.equal(labels_fine, tf.expand_dims(labels, axis=-1))\n",
    "labels_group_one_hot = tf.to_int64(labels_group_one_hot)\n",
    "\n",
    "loss_group = tf.losses.softmax_cross_entropy(\n",
    "    logits=predictions_group,\n",
    "    onehot_labels=labels_group_one_hot,\n",
    "    weights=FLAGS.gamma,\n",
    "    loss_collection=None if not FLAGS.multi_loss else tf.GraphKeys.LOSSES\n",
    ")"
   ]
  },
  {
   "cell_type": "code",
   "execution_count": 79,
   "metadata": {},
   "outputs": [],
   "source": [
    "sess=tf.Session(config=utils.allow_growth_config())\n",
    "_=tf.train.queue_runner.start_queue_runners(sess)"
   ]
  },
  {
   "cell_type": "code",
   "execution_count": null,
   "metadata": {
    "collapsed": true
   },
   "outputs": [],
   "source": [
    "sess.run([labels,labels_coarse,labels_fine])"
   ]
  },
  {
   "cell_type": "code",
   "execution_count": null,
   "metadata": {
    "collapsed": true
   },
   "outputs": [],
   "source": [
    "sess_run([predictions,one_hot])"
   ]
  },
  {
   "cell_type": "code",
   "execution_count": null,
   "metadata": {
    "collapsed": true
   },
   "outputs": [],
   "source": []
  },
  {
   "cell_type": "code",
   "execution_count": null,
   "metadata": {
    "collapsed": true
   },
   "outputs": [],
   "source": []
  },
  {
   "cell_type": "code",
   "execution_count": null,
   "metadata": {
    "collapsed": true
   },
   "outputs": [],
   "source": []
  },
  {
   "cell_type": "code",
   "execution_count": null,
   "metadata": {
    "collapsed": true
   },
   "outputs": [],
   "source": []
  },
  {
   "cell_type": "code",
   "execution_count": null,
   "metadata": {
    "collapsed": true
   },
   "outputs": [],
   "source": []
  },
  {
   "cell_type": "code",
   "execution_count": null,
   "metadata": {
    "collapsed": true
   },
   "outputs": [],
   "source": []
  },
  {
   "cell_type": "code",
   "execution_count": null,
   "metadata": {
    "collapsed": true
   },
   "outputs": [],
   "source": []
  },
  {
   "cell_type": "code",
   "execution_count": null,
   "metadata": {
    "collapsed": true
   },
   "outputs": [],
   "source": [
    "variables=tf.model_variables() \n",
    "slim.model_analyzer.analyze_vars(variables,print_info=True)"
   ]
  }
 ],
 "metadata": {
  "kernelspec": {
   "display_name": "Python [default]",
   "language": "python",
   "name": "python2"
  },
  "language_info": {
   "codemirror_mode": {
    "name": "ipython",
    "version": 2
   },
   "file_extension": ".py",
   "mimetype": "text/x-python",
   "name": "python",
   "nbconvert_exporter": "python",
   "pygments_lexer": "ipython2",
   "version": "2.7.13"
  }
 },
 "nbformat": 4,
 "nbformat_minor": 2
}
