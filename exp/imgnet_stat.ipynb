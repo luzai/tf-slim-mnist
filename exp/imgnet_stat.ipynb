{
 "cells": [
  {
   "cell_type": "code",
   "execution_count": 29,
   "metadata": {},
   "outputs": [],
   "source": [
    "import matplotlib as mpl\n",
    "from cycler import cycler\n",
    "t=mpl.rcParams['axes.prop_cycle']\n",
    "mpl.rcParams['axes.prop_cycle']=cycler(color=t.by_key().values()[0][1:]) "
   ]
  },
  {
   "cell_type": "code",
   "execution_count": 112,
   "metadata": {
    "collapsed": true
   },
   "outputs": [],
   "source": [
    "mpl.rcParams['figure.figsize']=(7,3)"
   ]
  },
  {
   "cell_type": "code",
   "execution_count": 1,
   "metadata": {
    "scrolled": false
   },
   "outputs": [
    {
     "name": "stdout",
     "output_type": "stream",
     "text": [
      "Auto select gpu\n",
      " ID  GPU  MEM\n",
      "--------------\n",
      "  0  60%  66%\n",
      "  1  99%  69%\n",
      "  2   0%  35%\n",
      "  3  99%  69%\n",
      "  4  99%  69%\n",
      "  5  99%  69%\n",
      "  6   0%   1%\n",
      "  7   0%   1%\n",
      "available [6]\n"
     ]
    },
    {
     "name": "stderr",
     "output_type": "stream",
     "text": [
      "Using TensorFlow backend.\n"
     ]
    },
    {
     "name": "stdout",
     "output_type": "stream",
     "text": [
      "\n"
     ]
    },
    {
     "data": {
      "text/plain": [
       "1000"
      ]
     },
     "execution_count": 1,
     "metadata": {},
     "output_type": "execute_result"
    }
   ],
   "source": [
    "from utils import *\n",
    "import utils\n",
    "utils.init_dev(utils.get_dev())\n",
    "utils.allow_growth()\n",
    "\n",
    "%load_ext autoreload\n",
    "# %reload_ext autoreload\n",
    "%autoreload 2\n",
    "%matplotlib inline\n",
    "import matplotlib\n",
    "matplotlib.style.use('ggplot')\n",
    "\n",
    "from IPython.core.interactiveshell import InteractiveShell\n",
    "InteractiveShell.ast_node_interactivity = \"all\"\n",
    "\n",
    "%pwd\n",
    "\n",
    "from metadata import * \n",
    "len(imagenet10k)\n",
    "len(imagenet1k)"
   ]
  },
  {
   "cell_type": "code",
   "execution_count": null,
   "metadata": {
    "collapsed": true
   },
   "outputs": [],
   "source": []
  },
  {
   "cell_type": "code",
   "execution_count": 16,
   "metadata": {
    "collapsed": true
   },
   "outputs": [],
   "source": [
    "target_depth = tree.max_depth //2 \n",
    "target_depth = 8 //2 \n",
    "res=[]\n",
    "for node in nx.dfs_preorder_nodes(tree,'fall11'):\n",
    "    if (tree.node[node]['depth']<=target_depth and tree.node[node]['nchild']==0):\n",
    "        res.append(node) \n",
    "    if (tree.node[node]['depth']==target_depth):\n",
    "#         rres=[node_ for node_ in nx.dfs_preorder_nodes(tree,node) if tree.node[node_]['nchild']==0]\n",
    "#         res.append(rres)\n",
    "        res.append(node)        "
   ]
  },
  {
   "cell_type": "code",
   "execution_count": 17,
   "metadata": {},
   "outputs": [
    {
     "name": "stdout",
     "output_type": "stream",
     "text": [
      "mkdir -p  train\n",
      "14084\n"
     ]
    }
   ],
   "source": [
    "os.chdir(root_path)\n",
    "os.chdir('./data')\n",
    "path ='train'\n",
    "mkdir_p(path)\n",
    "os.chdir(path)\n",
    "i=0\n",
    "for node in res: \n",
    "    i+=1\n",
    "    if tree.node[node]['nchild']==0:\n",
    "        nodes=[node] \n",
    "    else: \n",
    "        nodes=[node_ for node_ in nx.dfs_preorder_nodes(tree,node) if tree.node[node_]['nchild']==0]\n",
    "    for  node_ in nodes:\n",
    "        imagepath= get_imagepath(node_).strip('.tar') \n",
    "#         mkdir_p(node) \n",
    "#         ln(imagepath+'/*',node)\n",
    "print i\n",
    "os.chdir(root_path) "
   ]
  },
  {
   "cell_type": "code",
   "execution_count": 83,
   "metadata": {
    "collapsed": true
   },
   "outputs": [],
   "source": [
    "tree=ori_tree\n",
    "tree2=tree=slim_tree(tree,'imagenet1k')"
   ]
  },
  {
   "cell_type": "code",
   "execution_count": 47,
   "metadata": {
    "collapsed": true
   },
   "outputs": [],
   "source": [
    "def find_child(tree_,node):\n",
    "    res=[]\n",
    "    for node in nx.dfs_preorder_nodes(tree_,node):\n",
    "        imagepath=get_imagepath(node).strip('.tar')\n",
    "        if osp.exists(imagepath) and tree_.node[node]['nchild'] == 0:\n",
    "            res.append(node)\n",
    "    return res "
   ]
  },
  {
   "cell_type": "code",
   "execution_count": 86,
   "metadata": {
    "collapsed": true
   },
   "outputs": [],
   "source": [
    "@chdir_to_root\n",
    "def nimg_per_class(tree_):\n",
    "    all_nimg = []\n",
    "    for node in nx.dfs_preorder_nodes(tree_, 'fall11'):\n",
    "        imagepath = get_imagepath(node).strip('.tar')\n",
    "        if osp.exists(imagepath) and tree_.node[node]['nchild'] == 0:\n",
    "            nimg = len(os.listdir(imagepath))\n",
    "            all_nimg.append(nimg)\n",
    "            if nimg == 0:\n",
    "                print node\n",
    "                rm(imagepath)\n",
    "        elif tree_.node[node]['nchild'] >0 and node in imagenet1k:\n",
    "            nimg_=0\n",
    "            for node_ in find_child(tree_,node):\n",
    "                imagepath=get_imagepath(node_).strip('.tar') \n",
    "                nimg_+=len(os.listdir(imagepath)) \n",
    "            if nimg_>2000:\n",
    "                print node\n",
    "            all_nimg.append(nimg_) \n",
    "                \n",
    "    return np.sort(all_nimg)[::-1]\n"
   ]
  },
  {
   "cell_type": "code",
   "execution_count": null,
   "metadata": {},
   "outputs": [],
   "source": [
    "nimgs=[]\n",
    "for node in imagenet10k:\n",
    "    imagepath = get_imagepath(node).strip('.tar')\n",
    "    if osp.exists(imagepath):\n",
    "        nimgs.append(len(os.listdir(imagepath))) \n",
    "    else:\n",
    "        nimg=0\n",
    "        for node_ in find_child(ori_tree,node ): \n",
    "            imagepath=get_imagepath(node_).strip('.tar')\n",
    "            nimg+=len(os.listdir(imagepath)) \n",
    "        if nimg ==0:\n",
    "            print node_\n",
    "        nimgs.append(nimg) "
   ]
  },
  {
   "cell_type": "code",
   "execution_count": 93,
   "metadata": {
    "collapsed": true
   },
   "outputs": [],
   "source": [
    "nimgs = np.sort(nimgs)[::-1]"
   ]
  },
  {
   "cell_type": "code",
   "execution_count": 122,
   "metadata": {},
   "outputs": [
    {
     "data": {
      "text/plain": [
       "(1431431, 1431, 16)"
      ]
     },
     "execution_count": 122,
     "metadata": {},
     "output_type": "execute_result"
    }
   ],
   "source": [
    "sum(nimgs),sum(nimgs)/len(nimgs),len(nimgs[nimgs==0])"
   ]
  },
  {
   "cell_type": "code",
   "execution_count": 103,
   "metadata": {},
   "outputs": [
    {
     "data": {
      "text/plain": [
       "1000"
      ]
     },
     "execution_count": 103,
     "metadata": {},
     "output_type": "execute_result"
    }
   ],
   "source": [
    "len(nimgs)"
   ]
  },
  {
   "cell_type": "code",
   "execution_count": 120,
   "metadata": {},
   "outputs": [
    {
     "data": {
      "text/plain": [
       "(0, 8000)"
      ]
     },
     "execution_count": 120,
     "metadata": {},
     "output_type": "execute_result"
    },
    {
     "data": {
      "image/png": "[encoded data removed]",
      "text/plain": [
       "<matplotlib.figure.Figure at 0x7f8c24246090>"
      ]
     },
     "metadata": {},
     "output_type": "display_data"
    }
   ],
   "source": [
    "_=plt.hist(nimgs,bins=100)\n",
    "plt.xlim([0,8000])"
   ]
  },
  {
   "cell_type": "code",
   "execution_count": 113,
   "metadata": {},
   "outputs": [
    {
     "data": {
      "text/plain": [
       "<Container object of 3 artists>"
      ]
     },
     "execution_count": 113,
     "metadata": {},
     "output_type": "execute_result"
    },
    {
     "data": {
      "image/png": "[encoded data removed]",
      "text/plain": [
       "<matplotlib.figure.Figure at 0x7f8c263ae210>"
      ]
     },
     "metadata": {},
     "output_type": "display_data"
    }
   ],
   "source": [
    "plt.stem(nimgs[:])\n",
    "plt.yscale('log')"
   ]
  },
  {
   "cell_type": "code",
   "execution_count": 108,
   "metadata": {},
   "outputs": [
    {
     "data": {
      "text/plain": [
       "(1000, 40579, 0, 1431.431)"
      ]
     },
     "execution_count": 108,
     "metadata": {},
     "output_type": "execute_result"
    }
   ],
   "source": [
    "len(nimgs),max(nimgs),min(nimgs),nimgs.mean()"
   ]
  },
  {
   "cell_type": "code",
   "execution_count": 7,
   "metadata": {},
   "outputs": [
    {
     "data": {
      "text/plain": [
       "<matplotlib.figure.Figure at 0x7f8c37deea50>"
      ]
     },
     "execution_count": 7,
     "metadata": {},
     "output_type": "execute_result"
    },
    {
     "data": {
      "text/plain": [
       "<Container object of 3 artists>"
      ]
     },
     "execution_count": 7,
     "metadata": {},
     "output_type": "execute_result"
    },
    {
     "data": {
      "text/plain": [
       "(272, 3047, 669, 812895)"
      ]
     },
     "execution_count": 7,
     "metadata": {},
     "output_type": "execute_result"
    },
    {
     "data": {
      "image/png": "[encoded data removed]",
      "text/plain": [
       "<matplotlib.figure.Figure at 0x7f8c385e9bd0>"
      ]
     },
     "metadata": {},
     "output_type": "display_data"
    },
    {
     "data": {
      "image/png": "[encoded data removed]",
      "text/plain": [
       "<matplotlib.figure.Figure at 0x7f8c1df35390>"
      ]
     },
     "metadata": {},
     "output_type": "display_data"
    },
    {
     "data": {
      "image/png": "[encoded data removed]",
      "text/plain": [
       "<matplotlib.figure.Figure at 0x7f8c37deea50>"
      ]
     },
     "metadata": {},
     "output_type": "display_data"
    }
   ],
   "source": [
    "tree2=slim_tree(tree,condition='imagenet1k')\n",
    "_=plt.figure(figsize=(20,5))\n",
    "_=plt.hist(tree2.all_nchild)\n",
    "plt.yscale('log')\n",
    "_=plt.figure(figsize=(20,5))\n",
    "_=plt.hist(tree2.all_depth)\n",
    "nimgs=nimg_per_class(tree2)\n",
    "plt.figure(figsize=(20,5))\n",
    "plt.stem(nimgs)\n",
    "min(nimgs),max(nimgs),len(nimgs),sum(nimgs)"
   ]
  },
  {
   "cell_type": "code",
   "execution_count": 6,
   "metadata": {},
   "outputs": [
    {
     "name": "stderr",
     "output_type": "stream",
     "text": [
      "/home/wangxinglu/anaconda2/lib/python2.7/site-packages/matplotlib/__init__.py:1405: UserWarning: \n",
      "This call to matplotlib.use() has no effect because the backend has already\n",
      "been chosen; matplotlib.use() must be called *before* pylab, matplotlib.pyplot,\n",
      "or matplotlib.backends is imported for the first time.\n",
      "\n",
      "  warnings.warn(_use_error_msg)\n"
     ]
    },
    {
     "name": "stdout",
     "output_type": "stream",
     "text": [
      "\n"
     ]
    },
    {
     "data": {
      "text/plain": [
       "<matplotlib.figure.Figure at 0x7f8c30a3b450>"
      ]
     },
     "execution_count": 6,
     "metadata": {},
     "output_type": "execute_result"
    },
    {
     "data": {
      "text/plain": [
       "<Container object of 3 artists>"
      ]
     },
     "execution_count": 6,
     "metadata": {},
     "output_type": "execute_result"
    },
    {
     "data": {
      "text/plain": [
       "(1, 3047, 7450, 6163599)"
      ]
     },
     "execution_count": 6,
     "metadata": {},
     "output_type": "execute_result"
    },
    {
     "data": {
      "image/png": "[encoded data removed]",
      "text/plain": [
       "<matplotlib.figure.Figure at 0x7f8c2f1a8390>"
      ]
     },
     "metadata": {},
     "output_type": "display_data"
    },
    {
     "data": {
      "image/png": "[encoded data removed]",
      "text/plain": [
       "<matplotlib.figure.Figure at 0x7f8c30a62710>"
      ]
     },
     "metadata": {},
     "output_type": "display_data"
    },
    {
     "data": {
      "image/png": "[encoded data removed]",
      "text/plain": [
       "<matplotlib.figure.Figure at 0x7f8c30a3b450>"
      ]
     },
     "metadata": {},
     "output_type": "display_data"
    }
   ],
   "source": [
    "tree2=slim_tree(tree,condition='imagenet10k')\n",
    "_=plt.figure(figsize=(20,5))\n",
    "_=plt.hist(tree2.all_nchild)\n",
    "plt.yscale('log')\n",
    "_=plt.figure(figsize=(20,5))\n",
    "_=plt.hist(tree2.all_depth)\n",
    "nimgs=nimg_per_class(tree2)\n",
    "plt.figure(figsize=(20,5))\n",
    "plt.stem(nimgs)\n",
    "min(nimgs),max(nimgs),len(nimgs),sum(nimgs)"
   ]
  }
 ],
 "metadata": {
  "kernelspec": {
   "display_name": "Python [default]",
   "language": "python",
   "name": "python2"
  },
  "language_info": {
   "codemirror_mode": {
    "name": "ipython",
    "version": 2
   },
   "file_extension": ".py",
   "mimetype": "text/x-python",
   "name": "python",
   "nbconvert_exporter": "python",
   "pygments_lexer": "ipython2",
   "version": "2.7.13"
  }
 },
 "nbformat": 4,
 "nbformat_minor": 2
}
